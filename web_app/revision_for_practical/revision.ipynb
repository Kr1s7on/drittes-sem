{
 "cells": [
  {
   "cell_type": "markdown",
   "id": "fafc3bbb",
   "metadata": {},
   "source": [
    "```r\n",
    "▗▖ ▗▖▗▄▄▄▖▗▄▄▖ \n",
    "▐▌ ▐▌▐▌   ▐▌ ▐▌\n",
    "▐▌ ▐▌▐▛▀▀▘▐▛▀▚▖\n",
    "▐▙█▟▌▐▙▄▄▖▐▙▄▞▘ revision\n",
    "```\n",
    "\n",
    "~ revision material"
   ]
  },
  {
   "cell_type": "markdown",
   "id": "910ef37c",
   "metadata": {},
   "source": [
    "## basics"
   ]
  },
  {
   "cell_type": "code",
   "execution_count": null,
   "id": "91b8137a",
   "metadata": {},
   "outputs": [
    {
     "name": "stdout",
     "output_type": "stream",
     "text": [
      "\n",
      "== Customer Details ==\n",
      "Name: LeBron James\n",
      "Email: lbj@example.com\n",
      "======================\n",
      "\n",
      "\n"
     ]
    }
   ],
   "source": [
    "class Customer:\n",
    "    def __init__(self, name, email):\n",
    "        self.__name = name\n",
    "        self.__email = email\n",
    "\n",
    "    def get_customer_info(self):\n",
    "        return f\"\"\"\n",
    "== Customer Details ==\n",
    "Name: {self.__name}\n",
    "Email: {self.__email}\n",
    "======================\n",
    "\"\"\"\n",
    "\n",
    "# Creating an instance of the Customer class\n",
    "customer1 = Customer(\"LeBron James\", \"lbj@example.com\")\n",
    "\n",
    "# Access methods\n",
    "info = customer1.get_customer_info()\n",
    "print(info)"
   ]
  },
  {
   "cell_type": "code",
   "execution_count": 1,
   "id": "c977387a",
   "metadata": {},
   "outputs": [
    {
     "name": "stdout",
     "output_type": "stream",
     "text": [
      "Earth Health: 100\n",
      "Earth Shield: 50\n",
      "Mars Health: 80\n",
      "Mars Shield: 30\n"
     ]
    }
   ],
   "source": [
    "\"\"\"\n",
    "Sample program for planets\n",
    "\"\"\"\n",
    "import shelve\n",
    "\n",
    "class Earth:\n",
    "    def __init__(self, health, shield):\n",
    "        self.__health = health\n",
    "        self.__shield = shield\n",
    "\n",
    "    def set_health(self, health):\n",
    "        self.__health = health\n",
    "\n",
    "    def set_shield(self, shield):\n",
    "        self.__shield = shield\n",
    "\n",
    "    def get_health(self):\n",
    "        return f\"Earth Health: {self.__health}\"\n",
    "    \n",
    "    def get_shield(self):\n",
    "        return f\"Earth Shield: {self.__shield}\"\n",
    "        \n",
    "class Mars(Earth):\n",
    "    def __init__(self, health, shield):\n",
    "        super().__init__(health, shield)\n",
    "\n",
    "    def get_health(self):\n",
    "        return f\"Mars Health: {self._Earth__health}\"\n",
    "\n",
    "    def get_shield(self):\n",
    "        return f\"Mars Shield: {self._Earth__shield}\"\n",
    "    \n",
    "# Save and load planets using shelve\n",
    "def save_planets():\n",
    "    with shelve.open('planets.db') as db:\n",
    "        earth = Earth(100, 50)\n",
    "        mars = Mars(80, 30)\n",
    "        db['earth'] = earth\n",
    "        db['mars'] = mars\n",
    "        # This saves the objects in a persistent dictionary-like database\n",
    "        # planets.db will be created in the current directory if it doesn't exist\n",
    "def load_planets():\n",
    "    with shelve.open('planets.db') as db:\n",
    "        earth = db['earth']\n",
    "        mars = db['mars']\n",
    "        return earth, mars\n",
    "# Save planets to the database\n",
    "save_planets()\n",
    "# Load planets from the database\n",
    "earth, mars = load_planets()\n",
    "\n",
    "# Display health and shield information\n",
    "print(earth.get_health())\n",
    "print(earth.get_shield())\n",
    "print(mars.get_health())\n",
    "print(mars.get_shield())\n",
    "\n"
   ]
  }
 ],
 "metadata": {
  "kernelspec": {
   "display_name": "Python 3",
   "language": "python",
   "name": "python3"
  },
  "language_info": {
   "codemirror_mode": {
    "name": "ipython",
    "version": 3
   },
   "file_extension": ".py",
   "mimetype": "text/x-python",
   "name": "python",
   "nbconvert_exporter": "python",
   "pygments_lexer": "ipython3",
   "version": "3.9.6"
  }
 },
 "nbformat": 4,
 "nbformat_minor": 5
}
