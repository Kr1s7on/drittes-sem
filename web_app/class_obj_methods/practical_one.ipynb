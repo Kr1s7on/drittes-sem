{
 "cells": [
  {
   "cell_type": "markdown",
   "id": "e3bee903",
   "metadata": {},
   "source": [
    "# notebook for classes, objs, methds"
   ]
  },
  {
   "cell_type": "markdown",
   "id": "706d12b0",
   "metadata": {},
   "source": [
    "## class `customer`"
   ]
  },
  {
   "cell_type": "code",
   "execution_count": 5,
   "id": "6c81ff47",
   "metadata": {},
   "outputs": [
    {
     "name": "stdout",
     "output_type": "stream",
     "text": [
      "Name: John \n",
      "Email: john@nyp.edu.sg \n",
      "Mobile Number: 92345678\n"
     ]
    }
   ],
   "source": [
    "class Customer:\n",
    "    \"\"\"\n",
    "    __name\n",
    "    __email\n",
    "    __mobile_number\n",
    "    \"\"\"\n",
    "    def __init__(self, name, email, mobile_number):\n",
    "        self.__name = name\n",
    "        self.__email = email\n",
    "        self.__mobile_number = mobile_number\n",
    "\n",
    "    def get_customer_info(self):\n",
    "        # return {\n",
    "        #     \"Name: \" : self.__name,\n",
    "        #     \"Email: \" : self.__email,\n",
    "        #     \"Mobile Number: \" : self.__mobile_number\n",
    "        # }\n",
    "        # OR\n",
    "        return f\"Name: {self.__name} \\nEmail: {self.__email} \\nMobile Number: {self.__mobile_number}\"\n",
    "\n",
    "# Example usage\n",
    "if __name__ == \"__main__\":\n",
    "    customer = Customer(\"John\", \"john@nyp.edu.sg\", \"92345678\")\n",
    "    print(customer.get_customer_info())"
   ]
  },
  {
   "cell_type": "markdown",
   "id": "425e525f",
   "metadata": {},
   "source": [
    "## class `phone`"
   ]
  },
  {
   "cell_type": "code",
   "execution_count": 9,
   "id": "f80101c1",
   "metadata": {},
   "outputs": [
    {
     "name": "stdout",
     "output_type": "stream",
     "text": [
      "The price of the Apple iPhone 12 Pro Max is 1299!\n"
     ]
    }
   ],
   "source": [
    "class Phone:\n",
    "    \"\"\"\n",
    "    __make\n",
    "    __model\n",
    "    __price\n",
    "    \"\"\"\n",
    "    def __init__(self, make, model, price):\n",
    "        self.__make = make\n",
    "        self.__model = model\n",
    "        self.__price = price\n",
    "\n",
    "    def create_phone_info(self):\n",
    "        \"\"\"\n",
    "        creates object of Phone class\n",
    "        \"\"\"\n",
    "        return f\"Make: {self.__make} \\nModel: {self.__model} \\nPrice: {self.__price}\"\n",
    "    \n",
    "# Example usage\n",
    "def create_phone():\n",
    "    input_make = input(\"Enter the make of the phone: \")\n",
    "    input_model = input(\"Enter the model of the phone: \")\n",
    "    input_price = input(\"Enter the price of the phone: \")\n",
    "    phone = Phone(input_make, input_model, input_price)\n",
    "    print(f\"The price of the {input_make} {input_model} is {input_price}!\")\n",
    "\n",
    "if __name__ == \"__main__\":\n",
    "    create_phone()\n"
   ]
  },
  {
   "cell_type": "markdown",
   "id": "597c9b60",
   "metadata": {},
   "source": [
    "## encapsulation"
   ]
  },
  {
   "cell_type": "code",
   "execution_count": 10,
   "id": "d15fb38a",
   "metadata": {},
   "outputs": [
    {
     "name": "stdout",
     "output_type": "stream",
     "text": [
      "Name: John \n",
      "Email: john@gmail.com \n",
      "Mobile Number: 92345678\n",
      "Name: Jane \n",
      "Email: jane@gmail.com \n",
      "Mobile Number: 98765432\n"
     ]
    }
   ],
   "source": [
    "class Customer:\n",
    "    \"\"\"\n",
    "    __name\n",
    "    __email\n",
    "    __mobile_number\n",
    "    __init__() \n",
    "    set_name(name) \n",
    "    set_email(email) \n",
    "    set_mobile_number(mobile_number) \n",
    "    get_name() \n",
    "    get_email() \n",
    "    get_mobile_number() \n",
    "    \"\"\"\n",
    "    def __init__(self, name, email, mobile_number):\n",
    "        self.__name = name\n",
    "        self.__email = email\n",
    "        self.__mobile_number = mobile_number\n",
    "\n",
    "    def set_name(self, name):\n",
    "        self.__name = name\n",
    "\n",
    "    def set_email(self, email):\n",
    "        self.__email = email\n",
    "\n",
    "    def set_mobile_number(self, mobile_number):\n",
    "        self.__mobile_number = mobile_number\n",
    "\n",
    "    def get_name(self):\n",
    "        return self.__name\n",
    "    \n",
    "    def get_email(self):\n",
    "        return self.__email\n",
    "    \n",
    "    def get_mobile_number(self):\n",
    "        return self.__mobile_number\n",
    "\n",
    "    def get_customer_info(self):\n",
    "        # return {\n",
    "        #     \"Name: \" : self.__name,\n",
    "        #     \"Email: \" : self.__email,\n",
    "        #     \"Mobile Number: \" : self.__mobile_number\n",
    "        # }\n",
    "        # OR\n",
    "        return f\"Name: {self.__name} \\nEmail: {self.__email} \\nMobile Number: {self.__mobile_number}\"\n",
    "\n",
    "# Example usage\n",
    "# if __name__ == \"__main__\":\n",
    "#     customer = Customer(\"John\", \"john@nyp.edu.sg\", \"92345678\")\n",
    "#     print(customer.get_customer_info())\n",
    "\n",
    "# Usage of set_name, set_email, set_mobile_number\n",
    "if __name__ == \"__main__\":\n",
    "    customer = Customer(\"John\", \"john@gmail.com\", \"92345678\")\n",
    "    print(customer.get_customer_info())\n",
    "    customer.set_name(\"Jane\")\n",
    "    customer.set_email(\"jane@gmail.com\")\n",
    "    customer.set_mobile_number(\"98765432\")\n",
    "    print(customer.get_customer_info())\n"
   ]
  },
  {
   "cell_type": "markdown",
   "id": "6756dbc4",
   "metadata": {},
   "source": [
    "## phone encapped"
   ]
  },
  {
   "cell_type": "code",
   "execution_count": 1,
   "id": "10eb9d40",
   "metadata": {},
   "outputs": [
    {
     "name": "stdout",
     "output_type": "stream",
     "text": [
      "The price of the Apple iPhone 11 is 599!\n"
     ]
    }
   ],
   "source": [
    "class Phone:\n",
    "    \"\"\"\n",
    "    __make\n",
    "    __model\n",
    "    __price\n",
    "\n",
    "    __init__() \n",
    "    set_make(make) \n",
    "    set_model(model) \n",
    "    set_price(price) \n",
    "    get_make() \n",
    "    get_model() \n",
    "    get_price() \n",
    "    get_phone_info()\n",
    "    \"\"\"\n",
    "    def __init__(self, make, model, price):\n",
    "        self.__make = make\n",
    "        self.__model = model\n",
    "        self.__price = price\n",
    "    \n",
    "    def set_make(self, make):\n",
    "        self.__make = make\n",
    "\n",
    "    def set_model(self, model):\n",
    "        self.__model = model\n",
    "\n",
    "    def set_price(self, price):\n",
    "        self.__price = price\n",
    "    \n",
    "    def get_make(self):\n",
    "        return self.__make\n",
    "    \n",
    "    def get_model(self):\n",
    "        return self.__model\n",
    "    \n",
    "    def get_price(self):\n",
    "        return self.__price\n",
    "    \n",
    "    def get_phone_info(self):\n",
    "        return f\"Make: {self.__make} \\nModel: {self.__model} \\nPrice: {self.__price}\"\n",
    "\n",
    "    def create_phone_info(self):\n",
    "        \"\"\"\n",
    "        creates object of Phone class\n",
    "        \"\"\"\n",
    "        return f\"Make: {self.__make} \\nModel: {self.__model} \\nPrice: {self.__price}\"\n",
    "    \n",
    "# Example usage\n",
    "def create_phone():\n",
    "    input_make = input(\"Enter the make of the phone: \")\n",
    "    input_model = input(\"Enter the model of the phone: \")\n",
    "    input_price = input(\"Enter the price of the phone: \")\n",
    "    phone = Phone(input_make, input_model, input_price)\n",
    "    print(f\"The price of the {input_make} {input_model} is {input_price}!\")\n",
    "\n",
    "if __name__ == \"__main__\":\n",
    "    create_phone()\n"
   ]
  },
  {
   "cell_type": "markdown",
   "id": "7e9040a4",
   "metadata": {},
   "source": [
    "## class `salesperson `"
   ]
  },
  {
   "cell_type": "code",
   "execution_count": 3,
   "id": "cf4d6d8a",
   "metadata": {},
   "outputs": [
    {
     "name": "stdout",
     "output_type": "stream",
     "text": [
      "Lue earned $40.00 commission from this payment!\n",
      "The commission of Lue is $40.00\n"
     ]
    }
   ],
   "source": [
    "class SalesPerson:\n",
    "    \"\"\"\n",
    "    __name\n",
    "    __commission\n",
    "    __init__\n",
    "    accessor and mutator methods for only __name\n",
    "    method salesperson_commission -> accepts payment_received\n",
    "        commission of salesperson is 2% of payment_received\n",
    "    __str__ to display name and commission\n",
    "    \"\"\"\n",
    "\n",
    "    def __init__(self, name):\n",
    "        self.__name = name\n",
    "        self.__commission = 0.0  # Initialize commission to 0\n",
    "\n",
    "    def set_name(self, name):\n",
    "        self.__name = name\n",
    "\n",
    "    def get_name(self):\n",
    "        return self.__name\n",
    "    \n",
    "    def get_commission(self):\n",
    "        # Only getter for commission, no setter as per requirements\n",
    "        return self.__commission\n",
    "    \n",
    "    def salesperson_commission(self, payment_received):\n",
    "        # Calculate 2% of payment received\n",
    "        commission_amount = payment_received * 0.02\n",
    "        # Add new commission to existing commission\n",
    "        self.__commission += commission_amount\n",
    "        return commission_amount\n",
    "    \n",
    "    def __str__(self):\n",
    "        return f\"The commission of {self.__name} is ${self.__commission:.2f}\"\n",
    "    \n",
    "# Example usage\n",
    "def create_salesperson():\n",
    "    input_name = input(\"Enter the name of the salesperson: \")\n",
    "    salesperson = SalesPerson(input_name)\n",
    "    \n",
    "    # Ask for a payment to calculate commission\n",
    "    try:\n",
    "        payment = float(input(\"Enter a payment received by the salesperson: $\"))\n",
    "        commission_earned = salesperson.salesperson_commission(payment)\n",
    "        print(f\"{input_name} earned ${commission_earned:.2f} commission from this payment!\")\n",
    "    except ValueError:\n",
    "        print(\"Invalid payment amount. Setting commission to 0.\")\n",
    "    \n",
    "    return salesperson\n",
    "\n",
    "if __name__ == \"__main__\":\n",
    "    salesperson = create_salesperson()\n",
    "    print(salesperson)"
   ]
  },
  {
   "cell_type": "markdown",
   "id": "a0f16bd1",
   "metadata": {},
   "source": [
    "## inheritance and polymorphism"
   ]
  },
  {
   "cell_type": "code",
   "execution_count": null,
   "id": "e6fec998",
   "metadata": {},
   "outputs": [],
   "source": [
    "class Person:\n",
    "    \"\"\"\n",
    "    __name\n",
    "    __nric\n",
    "    __init__(name, nric)\n",
    "    \"\"\"\n",
    "    def __init__(self, name, nric):\n",
    "        self.__name = name\n",
    "        self.__nric = nric\n",
    "\n",
    "    # getters\n",
    "    def get_name(self):\n",
    "        return self.__name\n",
    "    \n",
    "    def get_nric(self):\n",
    "        return self.__nric\n",
    "    \n",
    "    # setters\n",
    "    def set_name(self, name):\n",
    "        self.__name = name\n",
    "\n",
    "    def set_nric(self, nric):\n",
    "        self.__nric = nric\n",
    "\n",
    "    def __str__(self):\n",
    "        return f\"Name: {self.__name}, NRIC: {self.__nric}\"\n",
    "    \n",
    "class Student(Person):\n",
    "    \"\"\"\n",
    "    __admin_no\n",
    "    __test_mark\n",
    "    __exam_mark\n",
    "    __init__(name, nric, admin_no, test_mark, exam_mark)\n",
    "    computeFinalMark()\n",
    "    \"\"\"\n",
    "\n",
    "class Lecturer(Person):\n",
    "    \"\"\"\n",
    "    __staff_id\n",
    "    __total_teaching_hours\n",
    "    __init__(name, nric, staff_id)\n",
    "    computeSalary()\n",
    "    \"\"\""
   ]
  }
 ],
 "metadata": {
  "kernelspec": {
   "display_name": "Python 3",
   "language": "python",
   "name": "python3"
  },
  "language_info": {
   "codemirror_mode": {
    "name": "ipython",
    "version": 3
   },
   "file_extension": ".py",
   "mimetype": "text/x-python",
   "name": "python",
   "nbconvert_exporter": "python",
   "pygments_lexer": "ipython3",
   "version": "3.9.6"
  }
 },
 "nbformat": 4,
 "nbformat_minor": 5
}
