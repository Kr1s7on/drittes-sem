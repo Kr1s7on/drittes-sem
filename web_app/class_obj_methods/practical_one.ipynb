{
 "cells": [
  {
   "cell_type": "markdown",
   "id": "e3bee903",
   "metadata": {},
   "source": [
    "# notebook for classes, objs, methds"
   ]
  },
  {
   "cell_type": "markdown",
   "id": "706d12b0",
   "metadata": {},
   "source": [
    "## class `customer`"
   ]
  },
  {
   "cell_type": "code",
   "execution_count": 5,
   "id": "6c81ff47",
   "metadata": {},
   "outputs": [
    {
     "name": "stdout",
     "output_type": "stream",
     "text": [
      "Name: John \n",
      "Email: john@nyp.edu.sg \n",
      "Mobile Number: 92345678\n"
     ]
    }
   ],
   "source": [
    "class Customer:\n",
    "    \"\"\"\n",
    "    __name\n",
    "    __email\n",
    "    __mobile_number\n",
    "    \"\"\"\n",
    "    def __init__(self, name, email, mobile_number):\n",
    "        self.__name = name\n",
    "        self.__email = email\n",
    "        self.__mobile_number = mobile_number\n",
    "\n",
    "    def get_customer_info(self):\n",
    "        # return {\n",
    "        #     \"Name: \" : self.__name,\n",
    "        #     \"Email: \" : self.__email,\n",
    "        #     \"Mobile Number: \" : self.__mobile_number\n",
    "        # }\n",
    "        # OR\n",
    "        return f\"Name: {self.__name} \\nEmail: {self.__email} \\nMobile Number: {self.__mobile_number}\"\n",
    "\n",
    "# Example usage\n",
    "if __name__ == \"__main__\":\n",
    "    customer = Customer(\"John\", \"john@nyp.edu.sg\", \"92345678\")\n",
    "    print(customer.get_customer_info())"
   ]
  },
  {
   "cell_type": "markdown",
   "id": "425e525f",
   "metadata": {},
   "source": [
    "## class `phone`"
   ]
  },
  {
   "cell_type": "code",
   "execution_count": 9,
   "id": "f80101c1",
   "metadata": {},
   "outputs": [
    {
     "name": "stdout",
     "output_type": "stream",
     "text": [
      "The price of the Apple iPhone 12 Pro Max is 1299!\n"
     ]
    }
   ],
   "source": [
    "class Phone:\n",
    "    \"\"\"\n",
    "    __make\n",
    "    __model\n",
    "    __price\n",
    "    \"\"\"\n",
    "    def __init__(self, make, model, price):\n",
    "        self.__make = make\n",
    "        self.__model = model\n",
    "        self.__price = price\n",
    "\n",
    "    def create_phone_info(self):\n",
    "        \"\"\"\n",
    "        creates object of Phone class\n",
    "        \"\"\"\n",
    "        return f\"Make: {self.__make} \\nModel: {self.__model} \\nPrice: {self.__price}\"\n",
    "    \n",
    "# Example usage\n",
    "def create_phone():\n",
    "    input_make = input(\"Enter the make of the phone: \")\n",
    "    input_model = input(\"Enter the model of the phone: \")\n",
    "    input_price = input(\"Enter the price of the phone: \")\n",
    "    phone = Phone(input_make, input_model, input_price)\n",
    "    print(f\"The price of the {input_make} {input_model} is {input_price}!\")\n",
    "\n",
    "if __name__ == \"__main__\":\n",
    "    create_phone()\n"
   ]
  },
  {
   "cell_type": "markdown",
   "id": "597c9b60",
   "metadata": {},
   "source": [
    "## encapsulation"
   ]
  },
  {
   "cell_type": "code",
   "execution_count": 10,
   "id": "d15fb38a",
   "metadata": {},
   "outputs": [
    {
     "name": "stdout",
     "output_type": "stream",
     "text": [
      "Name: John \n",
      "Email: john@gmail.com \n",
      "Mobile Number: 92345678\n",
      "Name: Jane \n",
      "Email: jane@gmail.com \n",
      "Mobile Number: 98765432\n"
     ]
    }
   ],
   "source": [
    "class Customer:\n",
    "    \"\"\"\n",
    "    __name\n",
    "    __email\n",
    "    __mobile_number\n",
    "    __init__() \n",
    "    set_name(name) \n",
    "    set_email(email) \n",
    "    set_mobile_number(mobile_number) \n",
    "    get_name() \n",
    "    get_email() \n",
    "    get_mobile_number() \n",
    "    \"\"\"\n",
    "    def __init__(self, name, email, mobile_number):\n",
    "        self.__name = name\n",
    "        self.__email = email\n",
    "        self.__mobile_number = mobile_number\n",
    "\n",
    "    def set_name(self, name):\n",
    "        self.__name = name\n",
    "\n",
    "    def set_email(self, email):\n",
    "        self.__email = email\n",
    "\n",
    "    def set_mobile_number(self, mobile_number):\n",
    "        self.__mobile_number = mobile_number\n",
    "\n",
    "    def get_name(self):\n",
    "        return self.__name\n",
    "    \n",
    "    def get_email(self):\n",
    "        return self.__email\n",
    "    \n",
    "    def get_mobile_number(self):\n",
    "        return self.__mobile_number\n",
    "\n",
    "    def get_customer_info(self):\n",
    "        # return {\n",
    "        #     \"Name: \" : self.__name,\n",
    "        #     \"Email: \" : self.__email,\n",
    "        #     \"Mobile Number: \" : self.__mobile_number\n",
    "        # }\n",
    "        # OR\n",
    "        return f\"Name: {self.__name} \\nEmail: {self.__email} \\nMobile Number: {self.__mobile_number}\"\n",
    "\n",
    "# Example usage\n",
    "# if __name__ == \"__main__\":\n",
    "#     customer = Customer(\"John\", \"john@nyp.edu.sg\", \"92345678\")\n",
    "#     print(customer.get_customer_info())\n",
    "\n",
    "# Usage of set_name, set_email, set_mobile_number\n",
    "if __name__ == \"__main__\":\n",
    "    customer = Customer(\"John\", \"john@gmail.com\", \"92345678\")\n",
    "    print(customer.get_customer_info())\n",
    "    customer.set_name(\"Jane\")\n",
    "    customer.set_email(\"jane@gmail.com\")\n",
    "    customer.set_mobile_number(\"98765432\")\n",
    "    print(customer.get_customer_info())\n"
   ]
  },
  {
   "cell_type": "markdown",
   "id": "6756dbc4",
   "metadata": {},
   "source": [
    "## phone encapped"
   ]
  },
  {
   "cell_type": "code",
   "execution_count": 1,
   "id": "10eb9d40",
   "metadata": {},
   "outputs": [
    {
     "name": "stdout",
     "output_type": "stream",
     "text": [
      "The price of the Apple iPhone 11 is 599!\n"
     ]
    }
   ],
   "source": [
    "class Phone:\n",
    "    \"\"\"\n",
    "    __make\n",
    "    __model\n",
    "    __price\n",
    "\n",
    "    __init__() \n",
    "    set_make(make) \n",
    "    set_model(model) \n",
    "    set_price(price) \n",
    "    get_make() \n",
    "    get_model() \n",
    "    get_price() \n",
    "    get_phone_info()\n",
    "    \"\"\"\n",
    "    def __init__(self, make, model, price):\n",
    "        self.__make = make\n",
    "        self.__model = model\n",
    "        self.__price = price\n",
    "    \n",
    "    def set_make(self, make):\n",
    "        self.__make = make\n",
    "\n",
    "    def set_model(self, model):\n",
    "        self.__model = model\n",
    "\n",
    "    def set_price(self, price):\n",
    "        self.__price = price\n",
    "    \n",
    "    def get_make(self):\n",
    "        return self.__make\n",
    "    \n",
    "    def get_model(self):\n",
    "        return self.__model\n",
    "    \n",
    "    def get_price(self):\n",
    "        return self.__price\n",
    "    \n",
    "    def get_phone_info(self):\n",
    "        return f\"Make: {self.__make} \\nModel: {self.__model} \\nPrice: {self.__price}\"\n",
    "\n",
    "    def create_phone_info(self):\n",
    "        \"\"\"\n",
    "        creates object of Phone class\n",
    "        \"\"\"\n",
    "        return f\"Make: {self.__make} \\nModel: {self.__model} \\nPrice: {self.__price}\"\n",
    "    \n",
    "# Example usage\n",
    "def create_phone():\n",
    "    input_make = input(\"Enter the make of the phone: \")\n",
    "    input_model = input(\"Enter the model of the phone: \")\n",
    "    input_price = input(\"Enter the price of the phone: \")\n",
    "    phone = Phone(input_make, input_model, input_price)\n",
    "    print(f\"The price of the {input_make} {input_model} is {input_price}!\")\n",
    "\n",
    "if __name__ == \"__main__\":\n",
    "    create_phone()\n"
   ]
  },
  {
   "cell_type": "markdown",
   "id": "7e9040a4",
   "metadata": {},
   "source": [
    "## class `salesperson `"
   ]
  },
  {
   "cell_type": "code",
   "execution_count": 11,
   "id": "cf4d6d8a",
   "metadata": {},
   "outputs": [
    {
     "ename": "NameError",
     "evalue": "name 'input_name' is not defined",
     "output_type": "error",
     "traceback": [
      "\u001b[0;31m---------------------------------------------------------------------------\u001b[0m",
      "\u001b[0;31mNameError\u001b[0m                                 Traceback (most recent call last)",
      "Cell \u001b[0;32mIn[11], line 44\u001b[0m\n\u001b[1;32m     41\u001b[0m     \u001b[38;5;28mprint\u001b[39m(salesperson)\n\u001b[1;32m     43\u001b[0m \u001b[38;5;28;01mif\u001b[39;00m \u001b[38;5;18m__name__\u001b[39m \u001b[38;5;241m==\u001b[39m \u001b[38;5;124m\"\u001b[39m\u001b[38;5;124m__main__\u001b[39m\u001b[38;5;124m\"\u001b[39m:\n\u001b[0;32m---> 44\u001b[0m     \u001b[43mcreate_salesperson\u001b[49m\u001b[43m(\u001b[49m\u001b[43m)\u001b[49m\n",
      "Cell \u001b[0;32mIn[11], line 37\u001b[0m, in \u001b[0;36mcreate_salesperson\u001b[0;34m()\u001b[0m\n\u001b[1;32m     36\u001b[0m \u001b[38;5;28;01mdef\u001b[39;00m\u001b[38;5;250m \u001b[39m\u001b[38;5;21mcreate_salesperson\u001b[39m():\n\u001b[0;32m---> 37\u001b[0m     salesperson \u001b[38;5;241m=\u001b[39m SalesPerson(\u001b[43minput_name\u001b[49m, input_commission)\n\u001b[1;32m     38\u001b[0m     payment_received \u001b[38;5;241m=\u001b[39m \u001b[38;5;28mfloat\u001b[39m(\u001b[38;5;28minput\u001b[39m(\u001b[38;5;124m\"\u001b[39m\u001b[38;5;124mEnter the payment received: \u001b[39m\u001b[38;5;124m\"\u001b[39m))\n\u001b[1;32m     39\u001b[0m     commission \u001b[38;5;241m=\u001b[39m salesperson\u001b[38;5;241m.\u001b[39msalesperson_commission(payment_received)\n",
      "\u001b[0;31mNameError\u001b[0m: name 'input_name' is not defined"
     ]
    }
   ],
   "source": [
    "class SalesPerson:\n",
    "    \"\"\"\n",
    "    __name\n",
    "    __commission\n",
    "    __init__\n",
    "    accessor and mutator methods for only __name\n",
    "    method salesperson_commission -> accepts payment_received\n",
    "        commission of salesperson is 2% of payment_received\n",
    "    __str__ to display name and commission\n",
    "    \"\"\"\n",
    "\n",
    "    def __init__(self, name, commission):\n",
    "        self.__name = name\n",
    "        self.__commission = commission\n",
    "\n",
    "    def set_name(self,name):\n",
    "        self.__name = name\n",
    "\n",
    "    def set_commission(self, commission):\n",
    "        self.__commission = commission\n",
    "\n",
    "    def get_name(self):\n",
    "        return self.__name\n",
    "    \n",
    "    def get_commission(self):\n",
    "        return self.__commission\n",
    "    \n",
    "    def salesperson_commission(self, payment_received):\n",
    "        self.__commission = payment_received * 0.02\n",
    "        return self.__commission\n",
    "    \n",
    "    def __str__(self):\n",
    "        return f\"The commission of {self.__name} is {self.__commission}\"\n",
    "    \n",
    "# Example usage\n",
    "def create_salesperson():\n",
    "    salesperson = SalesPerson(input_name, input_commission)\n",
    "    payment_received = float(input(\"Enter the payment received: \"))\n",
    "    commission = salesperson.salesperson_commission(payment_received)\n",
    "    print(f\"The commission of {input_name} is ${commission:.2f}.\")\n",
    "    print(salesperson)\n",
    "\n",
    "if __name__ == \"__main__\":\n",
    "    create_salesperson()\n"
   ]
  }
 ],
 "metadata": {
  "kernelspec": {
   "display_name": "Python 3",
   "language": "python",
   "name": "python3"
  },
  "language_info": {
   "codemirror_mode": {
    "name": "ipython",
    "version": 3
   },
   "file_extension": ".py",
   "mimetype": "text/x-python",
   "name": "python",
   "nbconvert_exporter": "python",
   "pygments_lexer": "ipython3",
   "version": "3.9.6"
  }
 },
 "nbformat": 4,
 "nbformat_minor": 5
}
