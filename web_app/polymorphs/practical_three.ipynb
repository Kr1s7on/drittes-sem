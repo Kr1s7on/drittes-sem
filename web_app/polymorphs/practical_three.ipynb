{
 "cells": [
  {
   "cell_type": "markdown",
   "id": "9b483a76",
   "metadata": {},
   "source": [
    "# polymorphs and inheritance"
   ]
  },
  {
   "cell_type": "code",
   "execution_count": null,
   "id": "31b49bc5",
   "metadata": {},
   "outputs": [],
   "source": [
    "class Person:\n",
    "    \"\"\"\n",
    "    __name\n",
    "    __nric\n",
    "    __init__(name, nric)\n",
    "    \"\"\"\n",
    "    def __init__(self, name, nric):\n",
    "        self.__name = name\n",
    "        self.__nric = nric\n",
    "\n",
    "    # getters\n",
    "    def get_name(self):\n",
    "        return self.__name\n",
    "    \n",
    "    def get_nric(self):\n",
    "        return self.__nric\n",
    "    \n",
    "    # setters\n",
    "    def set_name(self, name):\n",
    "        self.__name = name\n",
    "\n",
    "    def set_nric(self, nric):\n",
    "        self.__nric = nric\n",
    "\n",
    "    def __str__(self):\n",
    "        return f\"Name: {self.__name}, NRIC: {self.__nric}\"\n",
    "    \n",
    "class Student(Person):\n",
    "    \"\"\"\n",
    "    __admin_no\n",
    "    __test_mark\n",
    "    __exam_mark\n",
    "    __init__(name, nric, admin_no, test_mark, exam_mark)\n",
    "    computeFinalMark()\n",
    "    \"\"\"\n",
    "    def __init__(self, name, nric, admin_no, test_mark, exam_mark):\n",
    "        self.\n",
    "\n",
    "class Lecturer(Person):\n",
    "    \"\"\"\n",
    "    __staff_id\n",
    "    __total_teaching_hours\n",
    "    __init__(name, nric, staff_id)\n",
    "    computeSalary()\n",
    "    \"\"\""
   ]
  }
 ],
 "metadata": {
  "kernelspec": {
   "display_name": "Python 3",
   "language": "python",
   "name": "python3"
  },
  "language_info": {
   "codemirror_mode": {
    "name": "ipython",
    "version": 3
   },
   "file_extension": ".py",
   "mimetype": "text/x-python",
   "name": "python",
   "nbconvert_exporter": "python",
   "pygments_lexer": "ipython3",
   "version": "3.9.6"
  }
 },
 "nbformat": 4,
 "nbformat_minor": 5
}
