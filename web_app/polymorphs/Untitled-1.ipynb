{
 "cells": [
  {
   "cell_type": "code",
   "execution_count": 1,
   "id": "a3a8d01c",
   "metadata": {},
   "outputs": [
    {
     "name": "stdout",
     "output_type": "stream",
     "text": [
      "Defaulting to user installation because normal site-packages is not writeable\n",
      "Requirement already satisfied: pycryptodome in /Users/puolsky/Library/Python/3.9/lib/python/site-packages (3.22.0)\n",
      "\n",
      "\u001b[1m[\u001b[0m\u001b[34;49mnotice\u001b[0m\u001b[1;39;49m]\u001b[0m\u001b[39;49m A new release of pip is available: \u001b[0m\u001b[31;49m25.0.1\u001b[0m\u001b[39;49m -> \u001b[0m\u001b[32;49m25.1.1\u001b[0m\n",
      "\u001b[1m[\u001b[0m\u001b[34;49mnotice\u001b[0m\u001b[1;39;49m]\u001b[0m\u001b[39;49m To update, run: \u001b[0m\u001b[32;49m/Library/Developer/CommandLineTools/usr/bin/python3 -m pip install --upgrade pip\u001b[0m\n",
      "Note: you may need to restart the kernel to use updated packages.\n"
     ]
    }
   ],
   "source": [
    "pip install pycryptodome"
   ]
  },
  {
   "cell_type": "code",
   "execution_count": null,
   "id": "30e46e17",
   "metadata": {},
   "outputs": [
    {
     "name": "stdout",
     "output_type": "stream",
     "text": [
      "m = 5859753094784102207841315728222091905156221\n",
      "p = 11761009148495337545940999396205089807793355019204841643389748701443098007636228251201607196675918854587390323421928481912561291511618554667920837883094277\n",
      "q = 9888136228081414209820676558226657144779627238665715838177426712845225636870713659693703226404260564674108420042074230352505763500068502502134647674251687\n",
      "n = 116294460640033692143626306435891843122522599938940757452462911853125465582642144709612488762049012386016267798344721744397095276260624787992959891643706367183181737728205018889190090478186479836306983686854003107071206589145587398271398134923545870065377561092155233897560409036379963882175774245044047295299\n",
      "e = 65537\n",
      "c = 76325857553813810108087373191661250407297996903408686817265353891129090478158441081561440525136648615013336765795827018000766899630656661475388796847051876281623448077046988162963572878072393414475156780464278443439428713314870745770547225525850313402801896484575988710295750558862441480981582623939807870003\n"
     ]
    }
   ],
   "source": [
    "# You can use this script as a template to solve other RSA challenges\n",
    "\n",
    "from Crypto.Util.number import *\t# pip install pycryptodome\n",
    "\n",
    "p = 11761009148495337545940999396205089807793355019204841643389748701443098007636228251201607196675918854587390323421928481912561291511618554667920837883094277\n",
    "q = 9888136228081414209820676558226657144779627238665715838177426712845225636870713659693703226404260564674108420042074230352505763500068502502134647674251687\n",
    "n = p*q\n",
    "e = 65537\n",
    "phi = (p-1)*(q-1)\n",
    "d = pow(e,-1,phi)\n",
    "\n",
    "flag = b\"CDDC2025{REDACTED}\"\n",
    "m = bytes_to_long(flag)\n",
    "\n",
    "# Encryption\n",
    "c = pow(m,e,n)\n",
    "\n",
    "# Decryption\n",
    "m2 = pow(c,d,n)\n",
    "assert m == m2\n",
    "print(f\"m = {m}\")\n",
    "\n",
    "\n",
    "print(f\"p = {p}\")\n",
    "print(f\"q = {q}\")\n",
    "print(f\"n = {n}\")\n",
    "print(f\"e = {e}\")\n",
    "print(f\"c = {c}\")\n",
    "print(f\"phi = {phi}\")\n",
    "print(f\"d = {d}\")"
   ]
  }
 ],
 "metadata": {
  "kernelspec": {
   "display_name": "Python 3",
   "language": "python",
   "name": "python3"
  },
  "language_info": {
   "codemirror_mode": {
    "name": "ipython",
    "version": 3
   },
   "file_extension": ".py",
   "mimetype": "text/x-python",
   "name": "python",
   "nbconvert_exporter": "python",
   "pygments_lexer": "ipython3",
   "version": "3.9.6"
  }
 },
 "nbformat": 4,
 "nbformat_minor": 5
}
